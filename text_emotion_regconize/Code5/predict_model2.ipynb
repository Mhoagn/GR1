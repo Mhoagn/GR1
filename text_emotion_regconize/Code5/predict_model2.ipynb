{
 "cells": [
  {
   "cell_type": "code",
   "execution_count": 2,
   "metadata": {},
   "outputs": [],
   "source": [
    "from tensorflow.keras.models import load_model\n",
    "from tensorflow.keras.preprocessing.sequence import pad_sequences\n",
    "import pickle\n",
    "import numpy as np"
   ]
  },
  {
   "cell_type": "code",
   "execution_count": 3,
   "metadata": {},
   "outputs": [],
   "source": [
    "def load_components():\n",
    "    # Load model\n",
    "    model = load_model('emotion_model.h5')\n",
    "    \n",
    "    # Load tokenizer và label_encoder\n",
    "    with open('tokenizer.pkl', 'rb') as handle:\n",
    "        tokenizer = pickle.load(handle)\n",
    "    with open('label_encoder.pkl', 'rb') as handle:\n",
    "        label_encoder = pickle.load(handle)\n",
    "    \n",
    "    return model, tokenizer, label_encoder"
   ]
  },
  {
   "cell_type": "code",
   "execution_count": 4,
   "metadata": {},
   "outputs": [],
   "source": [
    "def predict_emotion(text, model, tokenizer, label_encoder):\n",
    "    # Tiền xử lý văn bản\n",
    "    sequence = tokenizer.texts_to_sequences([text])\n",
    "    padded = pad_sequences(sequence, maxlen=100)\n",
    "    \n",
    "    # Dự đoán\n",
    "    prediction = model.predict(padded)\n",
    "    predicted_label = label_encoder.inverse_transform([np.argmax(prediction)])\n",
    "    \n",
    "    return predicted_label[0]"
   ]
  },
  {
   "cell_type": "code",
   "execution_count": 5,
   "metadata": {},
   "outputs": [
    {
     "name": "stderr",
     "output_type": "stream",
     "text": [
      "WARNING:absl:Compiled the loaded model, but the compiled metrics have yet to be built. `model.compile_metrics` will be empty until you train or evaluate the model.\n"
     ]
    },
    {
     "name": "stdout",
     "output_type": "stream",
     "text": [
      "\u001b[1m1/1\u001b[0m \u001b[32m━━━━━━━━━━━━━━━━━━━━\u001b[0m\u001b[37m\u001b[0m \u001b[1m0s\u001b[0m 200ms/step\n",
      "Cảm xúc dự đoán: sadness\n",
      "\u001b[1m1/1\u001b[0m \u001b[32m━━━━━━━━━━━━━━━━━━━━\u001b[0m\u001b[37m\u001b[0m \u001b[1m0s\u001b[0m 33ms/step\n",
      "Cảm xúc dự đoán: sadness\n",
      "\u001b[1m1/1\u001b[0m \u001b[32m━━━━━━━━━━━━━━━━━━━━\u001b[0m\u001b[37m\u001b[0m \u001b[1m0s\u001b[0m 29ms/step\n",
      "Cảm xúc dự đoán: neutral\n",
      "\u001b[1m1/1\u001b[0m \u001b[32m━━━━━━━━━━━━━━━━━━━━\u001b[0m\u001b[37m\u001b[0m \u001b[1m0s\u001b[0m 26ms/step\n",
      "Cảm xúc dự đoán: neutral\n",
      "\u001b[1m1/1\u001b[0m \u001b[32m━━━━━━━━━━━━━━━━━━━━\u001b[0m\u001b[37m\u001b[0m \u001b[1m0s\u001b[0m 24ms/step\n",
      "Cảm xúc dự đoán: sadness\n"
     ]
    }
   ],
   "source": [
    "def main():\n",
    "    # Load các thành phần\n",
    "    model, tokenizer, label_encoder = load_components()\n",
    "    \n",
    "    # Nhập văn bản từ người dùng\n",
    "    while True:\n",
    "        text = input(\"\\nNhập văn bản để dự đoán cảm xúc (hoặc 'q' để thoát): \")\n",
    "        if text.lower() == 'q':\n",
    "            break\n",
    "            \n",
    "        emotion = predict_emotion(text, model, tokenizer, label_encoder)\n",
    "        print(f\"Cảm xúc dự đoán: {emotion}\")\n",
    "\n",
    "if __name__ == \"__main__\":\n",
    "    main() "
   ]
  }
 ],
 "metadata": {
  "kernelspec": {
   "display_name": "Python 3",
   "language": "python",
   "name": "python3"
  },
  "language_info": {
   "codemirror_mode": {
    "name": "ipython",
    "version": 3
   },
   "file_extension": ".py",
   "mimetype": "text/x-python",
   "name": "python",
   "nbconvert_exporter": "python",
   "pygments_lexer": "ipython3",
   "version": "3.12.4"
  }
 },
 "nbformat": 4,
 "nbformat_minor": 2
}
