{
 "cells": [
  {
   "cell_type": "code",
   "execution_count": 1,
   "metadata": {},
   "outputs": [],
   "source": [
    "import pandas as pd\n",
    "import numpy as np\n",
    "import pickle\n",
    "from sklearn.model_selection import train_test_split\n",
    "from sklearn.preprocessing import LabelEncoder\n",
    "from tensorflow.keras.preprocessing.text import Tokenizer\n",
    "from tensorflow.keras.preprocessing.sequence import pad_sequences\n",
    "from tensorflow.keras.models import Sequential\n",
    "from tensorflow.keras.layers import Embedding, LSTM, Dense\n",
    "from tensorflow.keras.callbacks import EarlyStopping"
   ]
  },
  {
   "cell_type": "code",
   "execution_count": 2,
   "metadata": {},
   "outputs": [],
   "source": [
    "# Đọc dữ liệu\n",
    "def load_data(file_path):\n",
    "    df = pd.read_csv(file_path)\n",
    "    return df"
   ]
  },
  {
   "cell_type": "code",
   "execution_count": 3,
   "metadata": {},
   "outputs": [],
   "source": [
    "# Tiền xử lý dữ liệu\n",
    "def preprocess_data(df):\n",
    "    # Mã hóa nhãn cảm xúc\n",
    "    label_encoder = LabelEncoder()\n",
    "    encoded_emotions = label_encoder.fit_transform(df['Emotion'])\n",
    "    \n",
    "    # Tokenize văn bản\n",
    "    tokenizer = Tokenizer()\n",
    "    tokenizer.fit_on_texts(df['Text'])\n",
    "    sequences = tokenizer.texts_to_sequences(df['Text'])\n",
    "    \n",
    "    # Pad sequences\n",
    "    max_length = 100\n",
    "    padded_sequences = pad_sequences(sequences, maxlen=max_length)\n",
    "    \n",
    "    return padded_sequences, encoded_emotions, label_encoder, tokenizer"
   ]
  },
  {
   "cell_type": "code",
   "execution_count": 4,
   "metadata": {},
   "outputs": [],
   "source": [
    "# Xây dựng mô hình\n",
    "def build_model(vocab_size, num_classes):\n",
    "    model = Sequential([\n",
    "        Embedding(vocab_size, 100, input_length=100),\n",
    "        LSTM(128, return_sequences=True),\n",
    "        LSTM(64),\n",
    "        Dense(32, activation='relu'),\n",
    "        Dense(num_classes, activation='softmax')\n",
    "    ])\n",
    "    \n",
    "    model.compile(optimizer='adam',\n",
    "                 loss='sparse_categorical_crossentropy',\n",
    "                 metrics=['accuracy'])\n",
    "    return model"
   ]
  },
  {
   "cell_type": "code",
   "execution_count": 5,
   "metadata": {},
   "outputs": [
    {
     "name": "stdout",
     "output_type": "stream",
     "text": [
      "Epoch 1/10\n"
     ]
    },
    {
     "name": "stderr",
     "output_type": "stream",
     "text": [
      "c:\\Users\\Admin\\AppData\\Local\\Programs\\Python\\Python312\\Lib\\site-packages\\keras\\src\\layers\\core\\embedding.py:90: UserWarning: Argument `input_length` is deprecated. Just remove it.\n",
      "  warnings.warn(\n"
     ]
    },
    {
     "name": "stdout",
     "output_type": "stream",
     "text": [
      "\u001b[1m696/696\u001b[0m \u001b[32m━━━━━━━━━━━━━━━━━━━━\u001b[0m\u001b[37m\u001b[0m \u001b[1m51s\u001b[0m 70ms/step - accuracy: 0.3725 - loss: 1.6440 - val_accuracy: 0.5671 - val_loss: 1.2337\n",
      "Epoch 2/10\n",
      "\u001b[1m696/696\u001b[0m \u001b[32m━━━━━━━━━━━━━━━━━━━━\u001b[0m\u001b[37m\u001b[0m \u001b[1m54s\u001b[0m 78ms/step - accuracy: 0.6653 - loss: 0.9929 - val_accuracy: 0.6188 - val_loss: 1.1089\n",
      "Epoch 3/10\n",
      "\u001b[1m696/696\u001b[0m \u001b[32m━━━━━━━━━━━━━━━━━━━━\u001b[0m\u001b[37m\u001b[0m \u001b[1m47s\u001b[0m 68ms/step - accuracy: 0.8073 - loss: 0.5967 - val_accuracy: 0.6257 - val_loss: 1.1725\n",
      "Epoch 4/10\n",
      "\u001b[1m696/696\u001b[0m \u001b[32m━━━━━━━━━━━━━━━━━━━━\u001b[0m\u001b[37m\u001b[0m \u001b[1m53s\u001b[0m 76ms/step - accuracy: 0.8859 - loss: 0.3743 - val_accuracy: 0.6161 - val_loss: 1.3143\n",
      "Epoch 5/10\n",
      "\u001b[1m696/696\u001b[0m \u001b[32m━━━━━━━━━━━━━━━━━━━━\u001b[0m\u001b[37m\u001b[0m \u001b[1m45s\u001b[0m 64ms/step - accuracy: 0.9232 - loss: 0.2658 - val_accuracy: 0.6115 - val_loss: 1.4772\n",
      "\u001b[1m218/218\u001b[0m \u001b[32m━━━━━━━━━━━━━━━━━━━━\u001b[0m\u001b[37m\u001b[0m \u001b[1m3s\u001b[0m 16ms/step - accuracy: 0.6217 - loss: 1.1015\n"
     ]
    },
    {
     "name": "stderr",
     "output_type": "stream",
     "text": [
      "WARNING:absl:You are saving your model as an HDF5 file via `model.save()` or `keras.saving.save_model(model)`. This file format is considered legacy. We recommend using instead the native Keras format, e.g. `model.save('my_model.keras')` or `keras.saving.save_model(model, 'my_model.keras')`. \n"
     ]
    },
    {
     "name": "stdout",
     "output_type": "stream",
     "text": [
      "\n",
      "Độ chính xác trên tập kiểm tra: 62.22%\n",
      "\n",
      "Đã lưu mô hình và các thành phần cần thiết\n"
     ]
    }
   ],
   "source": [
    "def main():\n",
    "    # Đọc dữ liệu\n",
    "    df = load_data('emotion_dataset_raw.csv')\n",
    "    \n",
    "    # Tiền xử lý dữ liệu\n",
    "    X, y, label_encoder, tokenizer = preprocess_data(df)\n",
    "    \n",
    "    # Chia tập dữ liệu\n",
    "    X_train, X_test, y_train, y_test = train_test_split(X, y, test_size=0.2, random_state=42)\n",
    "    \n",
    "    # Xây dựng và huấn luyện mô hình\n",
    "    vocab_size = len(tokenizer.word_index) + 1\n",
    "    num_classes = len(label_encoder.classes_)\n",
    "    \n",
    "    model = build_model(vocab_size, num_classes)\n",
    "    \n",
    "    early_stopping = EarlyStopping(monitor='val_loss', patience=3, restore_best_weights=True)\n",
    "    \n",
    "    history = model.fit(\n",
    "        X_train, y_train,\n",
    "        epochs=10,\n",
    "        batch_size=32,\n",
    "        validation_split=0.2,\n",
    "        callbacks=[early_stopping]\n",
    "    )\n",
    "    \n",
    "    # Đánh giá mô hình\n",
    "    loss, accuracy = model.evaluate(X_test, y_test)\n",
    "    print(f'\\nĐộ chính xác trên tập kiểm tra: {accuracy*100:.2f}%')\n",
    "    \n",
    "    # Lưu mô hình và các thành phần cần thiết\n",
    "    model.save('emotion_model.h5')\n",
    "    \n",
    "    # Lưu tokenizer\n",
    "    with open('tokenizer.pkl', 'wb') as handle:\n",
    "        pickle.dump(tokenizer, handle, protocol=pickle.HIGHEST_PROTOCOL)\n",
    "    \n",
    "    # Lưu label encoder\n",
    "    with open('label_encoder.pkl', 'wb') as handle:\n",
    "        pickle.dump(label_encoder, handle, protocol=pickle.HIGHEST_PROTOCOL)\n",
    "    \n",
    "    print('\\nĐã lưu mô hình và các thành phần cần thiết')\n",
    "    return model, tokenizer, label_encoder\n",
    "\n",
    "if __name__ == '__main__':\n",
    "    main() "
   ]
  }
 ],
 "metadata": {
  "kernelspec": {
   "display_name": "Python 3",
   "language": "python",
   "name": "python3"
  },
  "language_info": {
   "codemirror_mode": {
    "name": "ipython",
    "version": 3
   },
   "file_extension": ".py",
   "mimetype": "text/x-python",
   "name": "python",
   "nbconvert_exporter": "python",
   "pygments_lexer": "ipython3",
   "version": "3.12.4"
  }
 },
 "nbformat": 4,
 "nbformat_minor": 2
}
